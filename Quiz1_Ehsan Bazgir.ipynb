{
 "cells": [
  {
   "cell_type": "code",
   "execution_count": 9,
   "id": "8b52c50b-438f-45d3-a3b7-7bce275d1052",
   "metadata": {},
   "outputs": [
    {
     "name": "stdout",
     "output_type": "stream",
     "text": [
      "246\n"
     ]
    }
   ],
   "source": [
    "from operator import add, neg\n",
    "\n",
    "f = lambda x: (lambda a, b: a(x) + b(x))(abs, neg)\n",
    "\n",
    "print(f(-123)) "
   ]
  },
  {
   "cell_type": "code",
   "execution_count": null,
   "id": "56a3d9d8-f463-464c-917b-adf9f903e36d",
   "metadata": {},
   "outputs": [],
   "source": []
  }
 ],
 "metadata": {
  "kernelspec": {
   "display_name": "Python 3 (ipykernel)",
   "language": "python",
   "name": "python3"
  },
  "language_info": {
   "codemirror_mode": {
    "name": "ipython",
    "version": 3
   },
   "file_extension": ".py",
   "mimetype": "text/x-python",
   "name": "python",
   "nbconvert_exporter": "python",
   "pygments_lexer": "ipython3",
   "version": "3.11.4"
  }
 },
 "nbformat": 4,
 "nbformat_minor": 5
}
